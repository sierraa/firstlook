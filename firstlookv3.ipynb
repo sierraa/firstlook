{
 "metadata": {
  "name": "",
  "signature": "sha256:d14e1f8689c0e407302c4b716f3c9e82ec547a4b858cdcc5fdc3dcff35a7b9c1"
 },
 "nbformat": 3,
 "nbformat_minor": 0,
 "worksheets": [
  {
   "cells": [
    {
     "cell_type": "heading",
     "level": 1,
     "metadata": {},
     "source": [
      "Information about an individual KO"
     ]
    },
    {
     "cell_type": "markdown",
     "metadata": {},
     "source": [
      "The following code shows statistical information about an individual KO including mean and standard deviation for both the T2D samples and the control, p-values from a Student's t-test and a Wilcoxon sum-rank test, and a histogram of the relative abundance of the KO in both sample types. "
     ]
    },
    {
     "cell_type": "code",
     "collapsed": false,
     "input": [
      "import csv\n",
      "import math\n",
      "import numpy as np\n",
      "from scipy import stats\n",
      "import matplotlib.patches as mpatches\n",
      "import matplotlib.pyplot as plt\n",
      "from IPython.display import clear_output\n",
      "from keggorth import KO\n",
      "%matplotlib inline \n",
      "\n",
      "t2dsamples = [];\n",
      "controlsamples = [];\n",
      "ref =[];\n",
      "abundancedata = dict();\n",
      "KO_master_list = dict();\n",
      "\n",
      "with open('Sample2Class_T2D.tab','r') as data1:\n",
      "    # seperate the samples into T2D and control\n",
      "    r = csv.reader(data1, delimiter='\\t');\n",
      "    for row in r:\n",
      "        if int(row[1]) == 1:\n",
      "            t2dsamples.append(row[0])\n",
      "        else:\n",
      "            controlsamples.append(row[0])\n",
      "\n",
      "with open('KO2Sample_T2D.tab','r') as data2:\n",
      "    r2 = csv.reader(data2, delimiter='\\t');\n",
      "    for row in r2:\n",
      "        if row[0] != 'KO':\n",
      "            abundancedata[row[0]] = [];\n",
      "            temp = abundancedata[row[0]];\n",
      "            for x in range(1, len(row)):\n",
      "                temp.append(float(row[x]));\n",
      "        else:\n",
      "            for x in range(1, len(row)):\n",
      "                ref.append(row[x])\n",
      "\n",
      "for ko in abundancedata.keys():\n",
      "    k = KO(name=ko, data=abundancedata[ko], reference=ref, t2d=t2dsamples)\n",
      "    KO_master_list[ko] = k\n",
      "\n",
      "while (True):\n",
      "    user_KO = raw_input(\"Enter a KO you'd like to examine (or q to quit): \").upper()\n",
      "    if user_KO[0] != 'K':\n",
      "        break\n",
      "    clear_output()\n",
      "    print\n",
      "    k = KO_master_list[user_KO]\n",
      "    k.print_stats()\n",
      "\n"
     ],
     "language": "python",
     "metadata": {},
     "outputs": [
      {
       "output_type": "stream",
       "stream": "stdout",
       "text": [
        "\n",
        "K00001\n",
        "Mean relative abundance for T2D samples: 0.000175977081273\n",
        "Standard deviation for T2D samples: 7.28540621725e-05\n",
        "\n",
        "Mean relative abundance for control samples: 0.000166157450346\n",
        "Standard deviation for control samples: 6.79433322711e-05\n",
        "\n",
        "More prevalent in T2D samples than control by 5.91\n",
        "Present in 100.00 % of T2D samples\n",
        "Present in 100.00 % of control samples\n",
        "\n",
        "P-value for Student's t-test: 0.196199155625\n",
        "P-value for Wilcoxon rank-sum test: 0.306071071538\n",
        "Mean p-value of the two tests: 0.251135113582\n",
        "\n"
       ]
      },
      {
       "metadata": {},
       "output_type": "display_data",
       "png": "[encoded data removed]",
       "text": [
        "<matplotlib.figure.Figure at 0x139beda0>"
       ]
      },
      {
       "name": "stdout",
       "output_type": "stream",
       "stream": "stdout",
       "text": [
        "Enter a KO you'd like to examine (or q to quit): q\n"
       ]
      }
     ],
     "prompt_number": 1
    },
    {
     "cell_type": "heading",
     "level": 1,
     "metadata": {},
     "source": [
      "Distribution of p-values"
     ]
    },
    {
     "cell_type": "markdown",
     "metadata": {},
     "source": [
      "The following code shows the distribution of p-values for all KOs. "
     ]
    },
    {
     "cell_type": "code",
     "collapsed": false,
     "input": [
      "pvals = [];\n",
      "low_pval = dict();\n",
      "\n",
      "for ko in KO_master_list.values():\n",
      "    ko.pval_stats()\n",
      "    p = ko.mean_pval\n",
      "    if math.isnan(p) == False:\n",
      "        pvals.append(ko.mean_pval)\n",
      "    if p < 0.01:\n",
      "        low_pval[ko.name] = p\n",
      "\n",
      "plt.hist(pvals,bins=20);\n",
      "plt.xlabel('p-values');\n",
      "plt.show();"
     ],
     "language": "python",
     "metadata": {},
     "outputs": [
      {
       "metadata": {},
       "output_type": "display_data",
       "png": "[encoded data removed]",
       "text": [
        "<matplotlib.figure.Figure at 0x1a6edcf8>"
       ]
      }
     ],
     "prompt_number": 12
    },
    {
     "cell_type": "markdown",
     "metadata": {},
     "source": [
      "From the data, there appears to be many KOs that are either present in  T2D samples in higher quantities than in control samples or present in control samples in higher quantities than in T2D samples. "
     ]
    },
    {
     "cell_type": "heading",
     "level": 1,
     "metadata": {},
     "source": [
      "A few interesting findings"
     ]
    },
    {
     "cell_type": "markdown",
     "metadata": {},
     "source": [
      "<p><b>K01251</b><br>\n",
      "Associated with the disease hypermethioninemia and as part of the pathway for cysteine and methionine metabolism, this ortholog was present in 100% of both groups of samples, but was more abundant in Type II Diabetes samples by 44.15%. \n",
      "</p>"
     ]
    },
    {
     "cell_type": "code",
     "collapsed": false,
     "input": [
      "KO_master_list['K01251'].print_stats();"
     ],
     "language": "python",
     "metadata": {},
     "outputs": [
      {
       "output_type": "stream",
       "stream": "stdout",
       "text": [
        "K01251\n",
        "Mean relative abundance for T2D samples: 8.94495898867e-05\n",
        "Standard deviation for T2D samples: 4.70486660695e-05\n",
        "\n",
        "Mean relative abundance for control samples: 6.2051285631e-05\n",
        "Standard deviation for control samples: 3.40866004082e-05\n",
        "\n",
        "More prevalent in T2D samples than control by 44.15\n",
        "Present in 100.00 % of T2D samples\n",
        "Present in 100.00 % of control samples\n",
        "\n",
        "P-value for Student's t-test: 1.60419473074e-09\n",
        "P-value for Wilcoxon rank-sum test: 4.74205659761e-09\n",
        "Mean p-value of the two tests: 3.17312566418e-09\n",
        "\n"
       ]
      },
      {
       "metadata": {},
       "output_type": "display_data",
       "png": "[encoded data removed]",
       "text": [
        "<matplotlib.figure.Figure at 0x19ac9748>"
       ]
      }
     ],
     "prompt_number": 8
    },
    {
     "cell_type": "markdown",
     "metadata": {},
     "source": [
      "<p><b>K02808</b><br>\n",
      "This ortholog is part of a starch and sucrose metabolism pathway. Present in 100% of samples from both groups. As we might expect for Type II Diabetes, K02808 was more abundant in these samples than the control samples. \n",
      "</p>"
     ]
    },
    {
     "cell_type": "code",
     "collapsed": false,
     "input": [
      "KO_master_list['K02808'].print_stats();"
     ],
     "language": "python",
     "metadata": {},
     "outputs": [
      {
       "output_type": "stream",
       "stream": "stdout",
       "text": [
        "K02808\n",
        "Mean relative abundance for T2D samples: 2.63887548519e-05\n",
        "Standard deviation for T2D samples: 4.08733889684e-05\n",
        "\n",
        "Mean relative abundance for control samples: 1.76240436708e-05\n",
        "Standard deviation for control samples: 2.69117377799e-05\n",
        "\n",
        "More prevalent in T2D samples than control by 49.73\n",
        "Present in 100.00 % of T2D samples\n",
        "Present in 100.00 % of control samples\n",
        "\n",
        "P-value for Student's t-test: 0.0190211767535\n",
        "P-value for Wilcoxon rank-sum test: 0.00082362153724\n",
        "Mean p-value of the two tests: 0.00992239914535\n",
        "\n"
       ]
      },
      {
       "metadata": {},
       "output_type": "display_data",
       "png": "[encoded data removed]",
       "text": [
        "<matplotlib.figure.Figure at 0x1a53f828>"
       ]
      }
     ],
     "prompt_number": 9
    },
    {
     "cell_type": "markdown",
     "metadata": {},
     "source": [
      "<p><b>K01513</b><br>\n",
      "Listed in the KEGG Orthology database as associated with type II diabetes, as we might expect this KO was more prevalent in type II diabetes samples by 50.17%. K01513 is part of several pathways, including starch and surcrose metabolism, purine metabolism, riboflavin metabolism, nicotinate/nicotinamide metabolism. \n",
      "</p>"
     ]
    },
    {
     "cell_type": "code",
     "collapsed": false,
     "input": [
      "KO_master_list['K01513'].print_stats();"
     ],
     "language": "python",
     "metadata": {},
     "outputs": [
      {
       "output_type": "stream",
       "stream": "stdout",
       "text": [
        "K01513\n",
        "Mean relative abundance for T2D samples: 3.84721393883e-06\n",
        "Standard deviation for T2D samples: 7.73450654164e-06\n",
        "\n",
        "Mean relative abundance for control samples: 2.56198144626e-06\n",
        "Standard deviation for control samples: 6.66668549783e-06\n",
        "\n",
        "More prevalent in T2D samples than control by 50.17\n",
        "Present in 86.55 % of T2D samples\n",
        "Present in 74.14 % of control samples\n",
        "\n",
        "P-value for Student's t-test: 0.0990186500835\n",
        "P-value for Wilcoxon rank-sum test: 0.00330074430479\n",
        "Mean p-value of the two tests: 0.0511596971942\n",
        "\n"
       ]
      },
      {
       "metadata": {},
       "output_type": "display_data",
       "png": "[encoded data removed]",
       "text": [
        "<matplotlib.figure.Figure at 0x1a9efe48>"
       ]
      }
     ],
     "prompt_number": 10
    },
    {
     "cell_type": "markdown",
     "metadata": {},
     "source": [
      "<b>Other notable KOs</b><br>\n",
      "<p>More abundant in control: K14652 (riboflavin metabolism), K12343 (steriod hormone biosynthesis)</p> \n",
      "<p>More abundant in T2D samples: K01499 (methane/carbon metabolism), K08687 and K09251 (arginine and proline metabolism), K00055 (metabolizing several amino acids and degrading several other substances), K00240 (carbon metabolism, butanoate metabolism) </p>\n"
     ]
    },
    {
     "cell_type": "heading",
     "level": 1,
     "metadata": {},
     "source": [
      "Explore all KOs"
     ]
    },
    {
     "cell_type": "markdown",
     "metadata": {},
     "source": [
      "Below is an interactive widget to explore information for all KOs that had a mean p-value lower than 0.01."
     ]
    },
    {
     "cell_type": "code",
     "collapsed": false,
     "input": [
      "from IPython.html import widgets\n",
      "from IPython.display import display\n",
      "from IPython.display import clear_output\n",
      "import random \n",
      "\n",
      "current_KO_index = 0;\n",
      "low_pval_list = low_pval.keys()\n",
      "\n",
      "def make_container(title):\n",
      "    header = widgets.LatexWidget(value=title) \n",
      "    display(header)\n",
      "    \n",
      "    container = widgets.ContainerWidget()\n",
      "    display(container)\n",
      "    return container\n",
      "\n",
      "first_button = widgets.ButtonWidget(description=\"Display\")\n",
      "next_button = widgets.ButtonWidget(description=\"Next\")\n",
      "prev_button = widgets.ButtonWidget(description=\"Previous\")\n",
      "random_button = widgets.ButtonWidget(description=\"Random\")\n",
      "components = (first_button, random_button, prev_button, next_button);\n",
      "container = make_container('')\n",
      "container.remove_class('vbox')\n",
      "container.add_class('hbox')\n",
      "container.children = components;\n",
      "\n",
      "def display_clicked(b):\n",
      "    show();\n",
      "\n",
      "def random_clicked(b):\n",
      "    global current_KO_index\n",
      "    current_KO_index = int(math.floor(random.random()*len(low_pval_list)))\n",
      "    hide()\n",
      "    show()\n",
      "\n",
      "def show():\n",
      "    global current_KO_index\n",
      "    cur_KO = low_pval_list[current_KO_index];\n",
      "    KO_master_list[cur_KO].print_stats();\n",
      "\n",
      "def hide():\n",
      "    clear_output();\n",
      "    \n",
      "def prev_clicked(b):\n",
      "    global current_KO_index\n",
      "    if current_KO_index > 0:\n",
      "        current_KO_index -= 1;\n",
      "        hide();\n",
      "        show();\n",
      "    \n",
      "def next_clicked(b):\n",
      "    global current_KO_index\n",
      "    if current_KO_index < len(low_pval_list):\n",
      "        current_KO_index += 1;\n",
      "        hide();\n",
      "        show();\n",
      "\n",
      "prev_button.on_click(prev_clicked)\n",
      "next_button.on_click(next_clicked)\n",
      "first_button.on_click(display_clicked)\n",
      "random_button.on_click(random_clicked)"
     ],
     "language": "python",
     "metadata": {},
     "outputs": [
      {
       "output_type": "stream",
       "stream": "stdout",
       "text": [
        "K06191\n",
        "Mean relative abundance for T2D samples: 2.69780738932e-05\n",
        "Standard deviation for T2D samples: 5.88454044956e-05\n",
        "\n",
        "Mean relative abundance for control samples: 1.21658483768e-05\n",
        "Standard deviation for control samples: 3.11215489721e-05\n",
        "\n",
        "More prevalent in T2D samples than control by 121.75\n",
        "Present in 95.91 % of T2D samples\n",
        "Present in 95.98 % of control samples\n",
        "\n",
        "P-value for Student's t-test: 0.00362163169659\n",
        "P-value for Wilcoxon rank-sum test: 0.00202761367248\n",
        "Mean p-value of the two tests: 0.00282462268453\n",
        "\n"
       ]
      },
      {
       "metadata": {},
       "output_type": "display_data",
       "png": "[encoded data removed]",
       "text": [
        "<matplotlib.figure.Figure at 0x1a4a3898>"
       ]
      }
     ],
     "prompt_number": 13
    }
   ],
   "metadata": {}
  }
 ]
}