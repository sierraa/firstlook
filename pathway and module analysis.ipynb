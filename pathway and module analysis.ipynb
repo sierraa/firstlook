{
 "metadata": {
  "name": "",
  "signature": "sha256:1448b90849ab20b661a5087155d413ed500ffbf3f03c299c628966576272a554"
 },
 "nbformat": 3,
 "nbformat_minor": 0,
 "worksheets": [
  {
   "cells": [
    {
     "cell_type": "heading",
     "level": 1,
     "metadata": {},
     "source": [
      "Functional Analysis of T2D vs Control samples"
     ]
    },
    {
     "cell_type": "markdown",
     "metadata": {},
     "source": [
      "In my previous notebook, I examined various KEGG orthologs present in the human gut microbiome from samples with Type II Diabetes and control samples. In this notebook, I will take this examination a step further and look at various KEGG pathways and modules present in both classes of samples. "
     ]
    },
    {
     "cell_type": "code",
     "collapsed": false,
     "input": [
      "import csv\n",
      "from sample import sample\n",
      "from module import module\n",
      "from pathway import pathway\n",
      "\n",
      "sample_reference = [] # keeps an ordered reference of the sample names\n",
      "sample_master_list = dict() # keys = names, values = sample objects\n",
      "ko_names = []\n",
      "\n",
      "with open('Sample2Class_T2D.tab','r') as sample_class:\n",
      "    # Create the sample objects\n",
      "    r = csv.reader(sample_class, delimiter='\\t')\n",
      "    for row in r:\n",
      "        if int(row[1]) == 1:\n",
      "            s = sample(t2d=True, name=row[0])\n",
      "            sample_master_list[row[0]] = s\n",
      "        else:\n",
      "            s = sample(t2d=False, name=row[0])\n",
      "            sample_master_list[row[0]] = s\n",
      "        \n",
      "with open('KO2Sample_T2D.tab','r') as ko_data:\n",
      "    r = csv.reader(ko_data, delimiter='\\t')\n",
      "    for row in r:\n",
      "        if row[0] != 'KO': # account for header row\n",
      "            ko_names.append(row[0])\n",
      "            for x in range(0, len(sample_reference)): \n",
      "                s = sample_master_list[sample_reference[x]] # get the sample\n",
      "                s.kos[row[0]] = float(row[x + 1]) # put the KO and abundance in sample dictionary\n",
      "        else:\n",
      "            for x in range(1, len(row)):\n",
      "                sample_reference.append(row[x])\n",
      "\n",
      "# Get module and pathway info\n",
      "\n",
      "module_master_list = dict()\n",
      "pathway_master_list = dict()\n",
      "\n",
      "path_names = []\n",
      "module_names = []\n",
      "\n",
      "with open('MODULEvsNAME_BACTERIAL_KEGG_2013_07_15.lst', 'r') as module_data:\n",
      "    r = csv.reader(module_data, delimiter='\\t')\n",
      "    for row in r:\n",
      "        module_master_list[row[0]] = module(name=row[0], description=row[1])\n",
      "\n",
      "with open('PATHWAYvsNAME_BACTERIAL_KEGG_2013_07_15.lst', 'r') as pathway_data:\n",
      "    r = csv.reader(pathway_data, delimiter='\\t')\n",
      "    for row in r:\n",
      "        pathway_master_list[row[0]] = pathway(name=row[0],  description=row[1])\n",
      "\n",
      "with open('KOvsMODULE_BACTERIAL_KEGG_2013_07_15','r') as ko_module_data:\n",
      "    r = csv.reader(ko_module_data, delimiter='\\t')\n",
      "    for row in r:\n",
      "        if row[0] != 'KO' and row[0] in ko_names:\n",
      "            for x in range(1, len(row)):\n",
      "                if int(row[x]) == 1:\n",
      "                    module_master_list[module_names[x - 1]].add_ko(row[0])\n",
      "                    module_master_list[module_names[x - 1]].add_ko_all(row[0])\n",
      "        elif row[0] == 'KO': # account for header row\n",
      "            for x in range(1, len(row)):\n",
      "                module_names.append(row[x])\n",
      "        else:\n",
      "            for x in range(1, len(row)):\n",
      "                if int(row[x]) == 1:\n",
      "                    module_master_list[module_names[x - 1]].add_ko_all(row[0])\n",
      "\n",
      "with open('KOvsPATHWAY_BACTERIAL_KEGG_2013_07_15','r') as ko_path_data:\n",
      "    r = csv.reader(ko_path_data, delimiter='\\t')\n",
      "    for row in r:\n",
      "        if row[0] != 'KO' and row[0] in ko_names:\n",
      "            for x in range(1, len(row)):\n",
      "                if int(row[x]) == 1:\n",
      "                    pathway_master_list[path_names[x - 1]].add_ko(row[0])\n",
      "                    pathway_master_list[path_names[x - 1]].add_ko_all(row[0])\n",
      "        elif row[0] == 'KO':\n",
      "            for x in range(1, len(row)):\n",
      "                path_names.append(row[x])\n",
      "        else:\n",
      "            for x in range(1, len(row)): \n",
      "                if int(row[x]) == 1:\n",
      "                    pathway_master_list[path_names[x - 1]].add_ko_all(row[0])\n"
     ],
     "language": "python",
     "metadata": {},
     "outputs": [],
     "prompt_number": 1
    },
    {
     "cell_type": "code",
     "collapsed": false,
     "input": [
      "for s in sample_master_list.values():\n",
      "    module_total = 0.0\n",
      "    for m in module_master_list.keys():\n",
      "        mod = module_master_list[m]\n",
      "        total = 0.0\n",
      "        for k in mod.kos:\n",
      "            total += s.kos[k]\n",
      "        s.modules[m] = total\n",
      "        module_total += total\n",
      "    \n",
      "    path_total = 0.0\n",
      "    for p in pathway_master_list.keys():\n",
      "        path = pathway_master_list[p]\n",
      "        total = 0.0\n",
      "        for k in path.kos:\n",
      "            total += s.kos[k]\n",
      "        s.pathways[p] = total\n",
      "        path_total += total\n",
      "        \n",
      "    for m in s.modules.keys():\n",
      "        # Get relative abundances \n",
      "        s.modules[m] = s.modules[m] / module_total\n",
      "    for p in s.pathways.keys():\n",
      "        s.pathways[p] = s.pathways[p] / path_total\n",
      "        "
     ],
     "language": "python",
     "metadata": {},
     "outputs": [],
     "prompt_number": 3
    },
    {
     "cell_type": "code",
     "collapsed": false,
     "input": [
      "from scipy import stats\n",
      "\n",
      "for m in module_master_list.keys():\n",
      "    # seperate the relative abundances for each module by class\n",
      "    t2d = []\n",
      "    control = []\n",
      "    for s in sample_master_list.values():\n",
      "        if s.t2d:\n",
      "            t2d.append(s.modules[m])\n",
      "        else: \n",
      "            control.append(s.modules[m])\n",
      "    mod = module_master_list[m]\n",
      "    mod.pval = stats.ranksums(t2d, control)[1] # Calculate the P-value \n",
      "    mod.t2d_mean = stats.nanmean(t2d) # Calculate the mean relative abundance for each sample\n",
      "    mod.control_mean = stats.nanmean(control)\n",
      "    mod.strength = float(len(mod.kos))/float(len(mod.all_kos)) # \"Strength\" here is # of KOs present / # of KOs defined in the module\n",
      "    \n",
      "for p in pathway_master_list.keys():\n",
      "    # do the same thing for pathways\n",
      "    t2d = [] \n",
      "    control = [] \n",
      "    for s in sample_master_list.values():\n",
      "        if s.t2d:\n",
      "            t2d.append(s.pathways[p])\n",
      "        else: \n",
      "            control.append(s.pathways[p])\n",
      "    path = pathway_master_list[p]\n",
      "    path.pval = stats.ranksums(t2d, control)[1]\n",
      "    path.t2d_mean = stats.nanmean(t2d)\n",
      "    path.control_mean = stats.nanmean(control)\n",
      "    path.strength = float(len(path.kos))/float(len(path.all_kos))\n",
      "    "
     ],
     "language": "python",
     "metadata": {},
     "outputs": [],
     "prompt_number": 4
    },
    {
     "cell_type": "heading",
     "level": 1,
     "metadata": {},
     "source": [
      "List of Modules (p < 0.01)"
     ]
    },
    {
     "cell_type": "markdown",
     "metadata": {},
     "source": [
      "Two lists follow: one containing the module entry, the name, and its p-value, the second containing the module entry and p-value for reference followed by the \"strength\" of the module (defined here as number of KOs present in the collection of all samples divided by the total number of KOs defining this module), its directionality (whether it is enriched in T2D or control samples), and the percentage it is enriched by (for example: 0.23 followed by T2D means this module was 23% more prevalent in T2D samples than control). "
     ]
    },
    {
     "cell_type": "code",
     "collapsed": false,
     "input": [
      "import operator\n",
      "from tabulate import tabulate \n",
      "\n",
      "mtemp = []\n",
      "for m in module_master_list.values():\n",
      "    if m.pval < 0.01:\n",
      "        mtemp.append(m)\n",
      "\n",
      "mtemp.sort(key=operator.attrgetter('pval'))\n",
      "mnew_temp = []\n",
      "\n",
      "for m in mtemp:\n",
      "    if m.t2d_mean > m.control_mean:\n",
      "        m.directionality = \"T2D\"\n",
      "        a = (m.t2d_mean + m.control_mean) / 2\n",
      "        m.percent_diff = (m.t2d_mean - m.control_mean) / a\n",
      "    else:\n",
      "        m.directionality = \"Control\"\n",
      "        a = (m.t2d_mean + m.control_mean) / 2\n",
      "        m.percent_diff = (m.control_mean - m.t2d_mean) / a\n",
      "    mnew_temp.append([m.name, m.description[7:], m.pval, m.directionality])\n",
      "    \n",
      "print tabulate(mnew_temp, headers=[\"Entry\",\"Name\", \"P-value\",\"Direction\"])\n"
     ],
     "language": "python",
     "metadata": {},
     "outputs": [
      {
       "output_type": "stream",
       "stream": "stdout",
       "text": [
        "Entry    Name                                                                                          P-value  Direction\n",
        "-------  ----------------------------------------------------------------------------------------  -----------  -----------\n",
        "M00046   Pyrimidine degradation, uracil => beta-alanine, thymine => 3-aminoisobutanoate            3.7812e-08   T2D\n",
        "M00358   Coenzyme M biosynthesis                                                                   5.15975e-08  T2D\n",
        "M00096   C5 isoprenoid biosynthesis, non-mevalonate pathway                                        1.13117e-07  Control\n",
        "M00365   C10-C20 isoprenoid biosynthesis, archaea                                                  1.44042e-07  T2D\n",
        "M00157   F-type ATPase, prokaryotes and chloroplasts                                               2.65173e-07  Control\n",
        "M00580   Pentose phosphate pathway, archaea, fructose 6P => ribose 5P                              1.97638e-06  T2D\n",
        "M00052   Pyrimidine ribonucleotide biosynthesis, UMP => UDP/UTP,CDP/CTP                            1.99762e-06  Control\n",
        "M00125   Riboflavin biosynthesis, GTP => riboflavin/FMN/FAD                                        3.80152e-06  Control\n",
        "M00209   Osmoprotectant transport system                                                           6.23372e-06  T2D\n",
        "M00367   C10-C20 isoprenoid biosynthesis, non-plant eukaryotes                                     7.67562e-06  T2D\n",
        "M00546   Purine degradation, xanthine => urea                                                      7.91169e-06  T2D\n",
        "M00216   Multiple sugar transport system                                                           8.97214e-06  T2D\n",
        "M00020   Serine biosynthesis, glycerate-3P => serine                                               1.63305e-05  T2D\n",
        "M00307   Pyruvate oxidation, pyruvate => acetyl-CoA                                                2.38178e-05  T2D\n",
        "M00127   Thiamine biosynthesis, AIR => thiamine-P/thiamine-2P                                      2.95202e-05  Control\n",
        "M00549   Nucleotide sugar biosynthesis, glucose => UDP-glucose                                     3.29144e-05  T2D\n",
        "M00434   PhoR-PhoB (phosphate starvation response) two-component regulatory system                 3.7724e-05   Control\n",
        "M00308   Semi-phosphorylative Entner-Doudoroff pathway, gluconate => glyceraldehyde-3P + pyruvate  5.75232e-05  Control\n",
        "M00022   Shikimate pathway, phosphoenolpyruvate + erythrose-4P => chorismate                       7.2574e-05   Control\n",
        "M00170   C4-dicarboxylic acid cycle, phosphoenolpyruvate carboxykinase type                        7.6276e-05   Control\n",
        "M00119   Pantothenate biosynthesis, valine/L-aspartate => pantothenate                             8.88797e-05  Control\n",
        "M00028   Ornithine biosynthesis, glutamate => ornithine                                            9.50443e-05  Control\n",
        "M00478   DegS-DegU (multicellular behavior control) two-component regulatory system                9.58961e-05  Control\n",
        "M00027   GABA (gamma-Aminobutyrate) shunt                                                          9.8495e-05   T2D\n",
        "M00515   FlrB-FlrC (polar flagellar synthesis) two-component regulatory system                     0.00010717   T2D\n",
        "M00283   PTS system, ascorbate-specific II component                                               0.000143869  T2D\n",
        "M00237   Branched-chain amino acid transport system                                                0.000184107  T2D\n",
        "M00048   Inosine monophosphate biosynthesis, PRPP + glutamine => IMP                               0.00018891   Control\n",
        "M00013   Malonate semialdehyde pathway, propanoyl-CoA => Acetyl-CoA                                0.000220289  T2D\n",
        "M00036   Leucine degradation, leucine => acetoacetate + acetyl-CoA                                 0.000245926  T2D\n",
        "M00141   C1-unit interconversion, eukaryotes                                                       0.000290891  Control\n",
        "M00135   GABA biosynthesis, eukaryotes, putrescine => GABA                                         0.000304544  T2D\n",
        "M00015   Proline biosynthesis, glutamate => proline                                                0.000325478  Control\n",
        "M00239   Peptides/nickel transport system                                                          0.000368405  T2D\n",
        "M00458   ResE-ResD (aerobic and anaerobic respiration) two-component regulatory system             0.000391802  Control\n",
        "M00299   Spermidine/putrescine transport system                                                    0.000395024  Control\n",
        "M00134   Polyamine biosynthesis, arginine => ornithine => putrescine                               0.000416581  T2D\n",
        "M00175   Nitrogen fixation, nitrogen => ammonia                                                    0.00042516   T2D\n",
        "M00064   ADP-L-glycero-D-manno-heptose biosynthesis                                                0.000441021  T2D\n",
        "M00223   Phosphonate transport system                                                              0.000546195  T2D\n",
        "M00492   LytS-LytR two-component regulatory system                                                 0.000577644  Control\n",
        "M00306   PTS system, fructose-specific II-like component                                           0.000589279  T2D\n",
        "M00346   Formaldehyde assimilation, serine pathway                                                 0.000666423  Control\n",
        "M00479   DesK-DesR (membrane lipid fluidity regulation) two-component regulatory system            0.000718242  T2D\n",
        "M00115   NAD biosynthesis, aspartate => NAD                                                        0.000770764  Control\n",
        "M00006   Pentose phosphate pathway, oxidative phase, glucose 6P => ribulose 5P                     0.000817233  T2D\n",
        "M00010   Citrate cycle, first carbon oxidation, oxaloacetate => 2-oxoglutarate                     0.000852948  Control\n",
        "M00211   Putative ABC transport system                                                             0.000856265  T2D\n",
        "M00004   Pentose phosphate pathway (Pentose phosphate cycle)                                       0.0011508    T2D\n",
        "M00550   Ascorbate degradation, ascorbate => D-xylulose-5P                                         0.00150837   T2D\n",
        "M00527   Lysine biosynthesis, DAP aminotransferase pathway, aspartate => lysine                    0.00164866   Control\n",
        "M00344   Formaldehyde assimilation, xylulose monophosphate pathway                                 0.00169179   T2D\n",
        "M00049   Adenine ribonucleotide biosynthesis, IMP => ADP,ATP                                       0.00169179   Control\n",
        "M00507   ChpA-ChpB/PilGH (chemosensory) two-component regulatory system                            0.00195877   T2D\n",
        "M00129   Ascorbate biosynthesis, animals, glucose-1P => ascorbate                                  0.00197308   T2D\n",
        "M00159   V-type ATPase, prokaryotes                                                                0.00203869   T2D\n",
        "M00356   Methanogenesis, methanol => methane                                                       0.00223157   T2D\n",
        "M00517   RpfC-RpfG (cell-to-cell signaling) two-component regulatory system                        0.00246735   Control\n",
        "M00227   Glutamine transport system                                                                0.00252075   T2D\n",
        "M00253   Sodium transport system                                                                   0.00256606   Control\n",
        "M00198   Putative sn-glycerol-phosphate transport system                                           0.00260284   T2D\n",
        "M00081   Pectin degradation                                                                        0.0026401    Control\n",
        "M00193   Putative spermidine/putrescine transport system                                           0.00291489   T2D\n",
        "M00250   Lipopolysaccharide transport system                                                       0.00295621   Control\n",
        "M00267   PTS system, N-acetylglucosamine-specific II component                                     0.00311596   Control\n",
        "M00082   Fatty acid biosynthesis, initiation                                                       0.00312688   Control\n",
        "M00555   Betaine biosynthesis, choline => betaine                                                  0.00314884   T2D\n",
        "M00348   Glutathione transport system                                                              0.00322679   T2D\n",
        "M00537   Xylene degradation, xylene => methylbenzoate                                              0.00344732   T2D\n",
        "M00538   Toluene degradation, toluene => benzoate                                                  0.00344732   T2D\n",
        "M00455   TorS-TorR (TMAO respiration) two-component regulatory system                              0.00350759   T2D\n",
        "M00505   KinB-AlgB (alginate production) two-component regulatory system                           0.0036942    T2D\n",
        "M00368   Ethylene biosynthesis, methionine => ethylene                                             0.00459606   Control\n",
        "M00501   PilS-PilR (type 4 fimbriae synthesis) two-component regulatory system                     0.00483439   T2D\n",
        "M00061   Uronic acid metabolism                                                                    0.00491629   Control\n",
        "M00217   D-Allose transport system                                                                 0.00499944   T2D\n",
        "M00331   Type II general secretion system                                                          0.00510089   T2D\n",
        "M00008   Entner-Doudoroff pathway, glucose-6P => glyceraldehyde-3P + pyruvate                      0.0059231    T2D\n",
        "M00504   DctB-DctD (C4-dicarboxylate transport) two-component regulatory system                    0.00608119   T2D\n",
        "M00140   C1-unit interconversion, prokaryotes                                                      0.00673031   Control\n",
        "M00495   AgrC-AgrA (exoprotein synthesis) two-component regulatory system                          0.00706621   Control\n",
        "M00530   Dissimilatory nitrate reduction, nitrate => ammonia                                       0.00720474   T2D\n",
        "M00249   Capsular polysaccharide transport system                                                  0.00750119   T2D\n",
        "M00554   Nucleotide sugar biosynthesis, galactose => UDP-galactose                                 0.00912497   Control\n",
        "M00269   PTS system, sucrose-specific II component                                                 0.00929909   T2D\n",
        "M00083   Fatty acid biosynthesis, elongation                                                       0.00947616   Control\n"
       ]
      }
     ],
     "prompt_number": 92
    },
    {
     "cell_type": "code",
     "collapsed": false,
     "input": [
      "mnew_temp = []\n",
      "\n",
      "for m in mtemp:\n",
      "    mnew_temp.append([m.name, m.pval, m.strength, m.percent_diff, m.directionality])\n",
      "    \n",
      "print tabulate(mnew_temp, headers=[\"Entry\", \"P-value\", \"Strength\", \"% Diff\", \"Direction\"])"
     ],
     "language": "python",
     "metadata": {},
     "outputs": [
      {
       "output_type": "stream",
       "stream": "stdout",
       "text": [
        "Entry        P-value    Strength     % Diff  Direction\n",
        "-------  -----------  ----------  ---------  -----------\n",
        "M00046   3.7812e-08     1         0.327196   T2D\n",
        "M00358   5.15975e-08    1         0.438788   T2D\n",
        "M00096   1.13117e-07    1         0.0689415  Control\n",
        "M00365   1.44042e-07    1         0.542508   T2D\n",
        "M00157   2.65173e-07    1         0.108155   Control\n",
        "M00580   1.97638e-06    1         0.295717   T2D\n",
        "M00052   1.99762e-06    0.666667  0.0781541  Control\n",
        "M00125   3.80152e-06    0.727273  0.0919447  Control\n",
        "M00209   6.23372e-06    1         0.296683   T2D\n",
        "M00367   7.67562e-06    0.666667  0.339037   T2D\n",
        "M00546   7.91169e-06    0.631579  0.388958   T2D\n",
        "M00216   8.97214e-06    1         0.501381   T2D\n",
        "M00020   1.63305e-05    1         0.0530122  T2D\n",
        "M00307   2.38178e-05    1         0.19066    T2D\n",
        "M00127   2.95202e-05    0.875     0.114387   Control\n",
        "M00549   3.29144e-05    0.857143  0.0941306  T2D\n",
        "M00434   3.7724e-05     1         0.0818069  Control\n",
        "M00308   5.75232e-05    1         0.0924678  Control\n",
        "M00022   7.2574e-05     0.923077  0.0460336  Control\n",
        "M00170   7.6276e-05     1         0.0796739  Control\n",
        "M00119   8.88797e-05    1         0.0613672  Control\n",
        "M00028   9.50443e-05    0.625     0.0510445  Control\n",
        "M00478   9.58961e-05    1         0.365805   Control\n",
        "M00027   9.8495e-05     0.571429  0.221672   T2D\n",
        "M00515   0.00010717     1         0.304753   T2D\n",
        "M00283   0.000143869    1         0.323565   T2D\n",
        "M00237   0.000184107    1         0.183898   T2D\n",
        "M00048   0.00018891     0.75      0.0540219  Control\n",
        "M00013   0.000220289    0.375     0.226964   T2D\n",
        "M00036   0.000245926    0.846154  0.0740522  T2D\n",
        "M00141   0.000290891    0.5       0.0884233  Control\n",
        "M00135   0.000304544    0.6       0.0795262  T2D\n",
        "M00015   0.000325478    0.75      0.0488339  Control\n",
        "M00239   0.000368405    1         0.167366   T2D\n",
        "M00458   0.000391802    1         0.152459   Control\n",
        "M00299   0.000395024    1         0.0515831  Control\n",
        "M00134   0.000416581    1         0.243538   T2D\n",
        "M00175   0.00042516     0.75      0.204864   T2D\n",
        "M00064   0.000441021    1         0.166553   T2D\n",
        "M00223   0.000546195    1         0.275672   T2D\n",
        "M00492   0.000577644    1         0.174155   Control\n",
        "M00306   0.000589279    1         0.586752   T2D\n",
        "M00346   0.000666423    0.6       0.0426468  Control\n",
        "M00479   0.000718242    1         0.312415   T2D\n",
        "M00115   0.000770764    1         0.0435715  Control\n",
        "M00006   0.000817233    0.8       0.156177   T2D\n",
        "M00010   0.000852948    1         0.0409293  Control\n",
        "M00211   0.000856265    1         0.244158   T2D\n",
        "M00004   0.0011508      0.785714  0.0424621  T2D\n",
        "M00550   0.00150837     1         0.200049   T2D\n",
        "M00527   0.00164866     0.9       0.0238852  Control\n",
        "M00344   0.00169179     0.75      0.0872273  T2D\n",
        "M00049   0.00169179     0.833333  0.0338652  Control\n",
        "M00507   0.00195877     0.6       0.725025   T2D\n",
        "M00129   0.00197308     0.714286  0.0584836  T2D\n",
        "M00159   0.00203869     1         0.116386   T2D\n",
        "M00356   0.00223157     1         0.240943   T2D\n",
        "M00517   0.00246735     1         0.275329   Control\n",
        "M00227   0.00252075     1         0.333444   T2D\n",
        "M00253   0.00256606     1         0.396046   Control\n",
        "M00198   0.00260284     1         0.308113   T2D\n",
        "M00081   0.0026401      1         0.143768   Control\n",
        "M00193   0.00291489     1         0.31058    T2D\n",
        "M00250   0.00295621     1         0.148049   Control\n",
        "M00267   0.00311596     1         0.130126   Control\n",
        "M00082   0.00312688     0.857143  0.0481836  Control\n",
        "M00555   0.00314884     1         0.449085   T2D\n",
        "M00348   0.00322679     1         0.368081   T2D\n",
        "M00537   0.00344732     0.5       0.86861    T2D\n",
        "M00538   0.00344732     0.25      0.86861    T2D\n",
        "M00455   0.00350759     1         0.331324   T2D\n",
        "M00505   0.0036942      1         0.212763   T2D\n",
        "M00368   0.00459606     0.333333  0.0526047  Control\n",
        "M00501   0.00483439     1         0.18134    T2D\n",
        "M00061   0.00491629     0.714286  0.0663205  Control\n",
        "M00217   0.00499944     1         0.615502   T2D\n",
        "M00331   0.00510089     1         0.433844   T2D\n",
        "M00008   0.0059231      1         0.0746903  T2D\n",
        "M00504   0.00608119     1         0.562794   T2D\n",
        "M00140   0.00673031     1         0.0461946  Control\n",
        "M00495   0.00706621     1         0.177811   Control\n",
        "M00530   0.00720474     0.9       0.292923   T2D\n",
        "M00249   0.00750119     1         0.686664   T2D\n",
        "M00554   0.00912497     1         0.0520521  Control\n",
        "M00269   0.00929909     0.666667  0.275845   T2D\n",
        "M00083   0.00947616     0.785714  0.0333617  Control\n"
       ]
      }
     ],
     "prompt_number": 6
    },
    {
     "cell_type": "heading",
     "level": 1,
     "metadata": {},
     "source": [
      "List of pathways (p < 0.01)"
     ]
    },
    {
     "cell_type": "markdown",
     "metadata": {},
     "source": [
      "What follows is a list of pathways which displays the information that was shown for the modules above. "
     ]
    },
    {
     "cell_type": "code",
     "collapsed": false,
     "input": [
      "ptemp = []\n",
      "\n",
      "for p in pathway_master_list.values():\n",
      "    if p.pval < 0.01:\n",
      "        ptemp.append(p)\n",
      "    \n",
      "ptemp.sort(key=operator.attrgetter('pval'))\n",
      "\n",
      "for p in ptemp:\n",
      "    if p.t2d_mean > p.control_mean:\n",
      "        p.directionality = \"T2D\"\n",
      "        a = (p.t2d_mean + p.control_mean) / 2\n",
      "        p.percent_diff = (p.t2d_mean - p.control_mean) / a\n",
      "    else:\n",
      "        p.directionality = \"Control\"\n",
      "        a = (p.t2d_mean + p.control_mean) / 2\n",
      "        p.percent_diff = (p.control_mean - p.t2d_mean) / a\n",
      "    pnew_temp.append([p.name, p.description, p.pval])\n",
      "\n",
      "pnew_temp = []\n",
      "for p in ptemp:\n",
      "    pnew_temp.append([p.name, p.description, p.pval, p.strength, p.percent_diff, p.directionality])\n",
      "    \n",
      "print tabulate(pnew_temp, headers=[\"Entry\",\"Name\",\"P-value\",\"Strength\", \"% Diff\", \"Direction\"])"
     ],
     "language": "python",
     "metadata": {},
     "outputs": [
      {
       "output_type": "stream",
       "stream": "stdout",
       "text": [
        "Entry    Name                                                 P-value    Strength     % Diff  Direction\n",
        "-------  -----------------------------------------------  -----------  ----------  ---------  -----------\n",
        "ko05134  Legionellosis                                    1.378e-06     0.161765   0.078159   Control\n",
        "ko00643  Styrene degradation                              1.39302e-06   0.5        0.359597   T2D\n",
        "ko00640  Propanoate metabolism                            2.63335e-06   0.833333   0.059013   T2D\n",
        "ko00195  Photosynthesis                                   3.49722e-06   0.333333   0.104849   Control\n",
        "ko00053  Ascorbate and aldarate metabolism                3.53394e-06   0.540541   0.145486   T2D\n",
        "ko00625  Chloroalkane and chloroalkene degradation        5.80368e-06   0.59375    0.0948713  T2D\n",
        "ko00900  Terpenoid backbone biosynthesis                  1.42378e-05   0.583333   0.0541705  Control\n",
        "ko05150  Staphylococcus aureus infection                  2.99433e-05   0.19697    0.330618   T2D\n",
        "ko00730  Thiamine metabolism                              3.66772e-05   0.909091   0.0615936  Control\n",
        "ko00680  Methane metabolism                               6.18935e-05   0.754545   0.033642   T2D\n",
        "ko00930  Caprolactam degradation                          6.5674e-05    0.785714   0.25108    T2D\n",
        "ko00740  Riboflavin metabolism                            6.87296e-05   0.741935   0.0806408  Control\n",
        "ko03410  Base excision repair                             0.000135932   0.609756   0.0408657  T2D\n",
        "ko00380  Tryptophan metabolism                            0.000148968   0.338462   0.170567   T2D\n",
        "ko00360  Phenylalanine metabolism                         0.000192177   0.71875    0.0629325  T2D\n",
        "ko00010  Glycolysis / Gluconeogenesis                     0.000212015   0.637363   0.0341167  T2D\n",
        "ko00362  Benzoate degradation                             0.000232776   0.574713   0.0476449  T2D\n",
        "ko02040  Flagellar assembly                               0.000246966   0.95122    0.229151   Control\n",
        "ko00061  Fatty acid biosynthesis                          0.000267524   0.733333   0.0353147  Control\n",
        "ko00785  Lipoic acid metabolism                           0.00038543    0.75       0.155609   T2D\n",
        "ko00650  Butanoate metabolism                             0.000401543   0.871429   0.0409912  T2D\n",
        "ko02030  Bacterial chemotaxis                             0.000430387   1          0.199129   Control\n",
        "ko00280  Valine, leucine and isoleucine degradation       0.00047059    0.672131   0.0588597  T2D\n",
        "ko00624  Polycyclic aromatic hydrocarbon degradation      0.00102246    0.322581   0.0357111  Control\n",
        "ko03450  Non-homologous end-joining                       0.00114209    0.263158   0.246985   T2D\n",
        "ko00190  Oxidative phosphorylation                        0.00167936    0.495283   0.021452   Control\n",
        "ko00591  Linoleic acid metabolism                         0.00174234    0.166667   0.0759087  T2D\n",
        "ko00592  alpha-Linolenic acid metabolism                  0.00198749    0.0952381  0.439595   T2D\n",
        "ko04070  Phosphatidylinositol signaling system            0.00209109    0.25641    0.0475063  T2D\n",
        "ko00561  Glycerolipid metabolism                          0.00276459    0.521739   0.0426454  T2D\n",
        "ko03018  RNA degradation                                  0.00293548    0.52       0.0385151  Control\n",
        "ko00361  Chlorocyclohexane and chlorobenzene degradation  0.00433884    0.375      0.112835   T2D\n",
        "ko00071  Fatty acid metabolism                            0.00448852    0.571429   0.0525488  T2D\n",
        "ko00471  D-Glutamine and D-glutamate metabolism           0.00515232    0.833333   0.031859   Control\n",
        "ko00562  Inositol phosphate metabolism                    0.00550728    0.403846   0.0486071  T2D\n",
        "ko00620  Pyruvate metabolism                              0.00561799    0.907895   0.0242238  T2D\n",
        "ko00030  Pentose phosphate pathway                        0.00677425    0.77193    0.0305978  T2D\n",
        "ko00550  Peptidoglycan biosynthesis                       0.00732203    0.947368   0.0361075  Control\n",
        "ko04112  Cell cycle - Caulobacter                         0.00886926    0.83871    0.0250132  Control\n",
        "ko00760  Nicotinate and nicotinamide metabolism           0.00898211    0.731707   0.0151382  Control\n",
        "ko00500  Starch and sucrose metabolism                    0.00921166    0.677083   0.0357218  Control\n"
       ]
      }
     ],
     "prompt_number": 62
    },
    {
     "cell_type": "markdown",
     "metadata": {},
     "source": [
      "Many of these pathways have less than 50% of the KOs defining them present. To reduce noise, the following list removes all pathways with less than 50% of their defining genes present. "
     ]
    },
    {
     "cell_type": "code",
     "collapsed": false,
     "input": [
      "pnew_temp = []\n",
      "\n",
      "for p in ptemp:\n",
      "    if p.strength > 0.5:\n",
      "        pnew_temp.append(p)\n",
      "\n",
      "display_temp = []\n",
      "\n",
      "for p in pnew_temp:\n",
      "    display_temp.append([p.name, p.description, p.pval, p.strength, p.percent_diff, p.directionality])\n",
      "    \n",
      "print tabulate(display_temp, headers=[\"Entry\",\"Name\", \"P-value\", \"Strength\", \"% Diff\", \"Direction\"])\n"
     ],
     "language": "python",
     "metadata": {},
     "outputs": [
      {
       "output_type": "stream",
       "stream": "stdout",
       "text": [
        "Entry    Name                                            P-value    Strength     % Diff  Direction\n",
        "-------  ------------------------------------------  -----------  ----------  ---------  -----------\n",
        "ko00640  Propanoate metabolism                       2.63335e-06    0.833333  0.059013   T2D\n",
        "ko00053  Ascorbate and aldarate metabolism           3.53394e-06    0.540541  0.145486   T2D\n",
        "ko00625  Chloroalkane and chloroalkene degradation   5.80368e-06    0.59375   0.0948713  T2D\n",
        "ko00900  Terpenoid backbone biosynthesis             1.42378e-05    0.583333  0.0541705  Control\n",
        "ko00730  Thiamine metabolism                         3.66772e-05    0.909091  0.0615936  Control\n",
        "ko00680  Methane metabolism                          6.18935e-05    0.754545  0.033642   T2D\n",
        "ko00930  Caprolactam degradation                     6.5674e-05     0.785714  0.25108    T2D\n",
        "ko00740  Riboflavin metabolism                       6.87296e-05    0.741935  0.0806408  Control\n",
        "ko03410  Base excision repair                        0.000135932    0.609756  0.0408657  T2D\n",
        "ko00360  Phenylalanine metabolism                    0.000192177    0.71875   0.0629325  T2D\n",
        "ko00010  Glycolysis / Gluconeogenesis                0.000212015    0.637363  0.0341167  T2D\n",
        "ko00362  Benzoate degradation                        0.000232776    0.574713  0.0476449  T2D\n",
        "ko02040  Flagellar assembly                          0.000246966    0.95122   0.229151   Control\n",
        "ko00061  Fatty acid biosynthesis                     0.000267524    0.733333  0.0353147  Control\n",
        "ko00785  Lipoic acid metabolism                      0.00038543     0.75      0.155609   T2D\n",
        "ko00650  Butanoate metabolism                        0.000401543    0.871429  0.0409912  T2D\n",
        "ko02030  Bacterial chemotaxis                        0.000430387    1         0.199129   Control\n",
        "ko00280  Valine, leucine and isoleucine degradation  0.00047059     0.672131  0.0588597  T2D\n",
        "ko00561  Glycerolipid metabolism                     0.00276459     0.521739  0.0426454  T2D\n",
        "ko03018  RNA degradation                             0.00293548     0.52      0.0385151  Control\n",
        "ko00071  Fatty acid metabolism                       0.00448852     0.571429  0.0525488  T2D\n",
        "ko00471  D-Glutamine and D-glutamate metabolism      0.00515232     0.833333  0.031859   Control\n",
        "ko00620  Pyruvate metabolism                         0.00561799     0.907895  0.0242238  T2D\n",
        "ko00030  Pentose phosphate pathway                   0.00677425     0.77193   0.0305978  T2D\n",
        "ko00550  Peptidoglycan biosynthesis                  0.00732203     0.947368  0.0361075  Control\n",
        "ko04112  Cell cycle - Caulobacter                    0.00886926     0.83871   0.0250132  Control\n",
        "ko00760  Nicotinate and nicotinamide metabolism      0.00898211     0.731707  0.0151382  Control\n",
        "ko00500  Starch and sucrose metabolism               0.00921166     0.677083  0.0357218  Control\n"
       ]
      }
     ],
     "prompt_number": 93
    },
    {
     "cell_type": "heading",
     "level": 1,
     "metadata": {},
     "source": [
      "Principal Component Analysis"
     ]
    },
    {
     "cell_type": "markdown",
     "metadata": {},
     "source": [
      "Here is the part where I do a PCA. Rather than use a PCA class from an external library, I will first do it by step-by-step to illustrate my understanding. Since there is a significant number of modules not present in the samples, I first filter these out. "
     ]
    },
    {
     "cell_type": "code",
     "collapsed": false,
     "input": [
      "import numpy as np\n",
      "import matplotlib.pyplot as plt\n",
      "\n",
      "t2dmaster = []\n",
      "controlmaster = [] \n",
      "modmaster = []\n",
      "master = []\n",
      "\n",
      "for m in module_master_list.keys():\n",
      "    # 409 modules \n",
      "    t2d = [] # 171 T2D samples\n",
      "    control = [] # 174 control samples\n",
      "    for s in sample_master_list.values():\n",
      "        if s.t2d:\n",
      "            t2d.append(s.modules[m])\n",
      "        else:\n",
      "            control.append(s.modules[m])\n",
      "    both = t2d + control\n",
      "    if (sum(both) != 0): # Ignore modules that are not present\n",
      "        modmaster.append(module_master_list[m])\n",
      "\n",
      "pathmaster = pathway_master_list.values()\n",
      "samp = sample_master_list.values() \n",
      "\n",
      "for m in modmaster:\n",
      "    t2d = []\n",
      "    control = []\n",
      "    for s in samp: \n",
      "        if s.t2d:\n",
      "            t2d.append(s.modules[m.name])\n",
      "        else:\n",
      "            control.append(s.modules[m.name])\n",
      "    master.append(t2d + control)\n",
      "    \n",
      "for p in pathmaster:\n",
      "    t2d = []\n",
      "    control = []\n",
      "    for s in samp:\n",
      "        if s.t2d:\n",
      "            t2d.append(s.pathways[p.name])\n",
      "        else:\n",
      "            control.append(s.pathways[p.name])\n",
      "    master.append(t2d + control)\n",
      "\n",
      "master = np.array(master)"
     ],
     "language": "python",
     "metadata": {},
     "outputs": [],
     "prompt_number": 81
    },
    {
     "cell_type": "markdown",
     "metadata": {},
     "source": [
      "Now I compute the covariance matrix and the eigenvectors/eigenvalues and find the highest eigenvalues."
     ]
    },
    {
     "cell_type": "code",
     "collapsed": false,
     "input": [
      "cov_matrix = np.cov([master[i,:] for i in range(0, 522)])\n",
      "eig_val, eig_vec = np.linalg.eig(cov_matrix)\n",
      "\n",
      "eig_pairs = [(eig_val[i], eig_vec[:,i]) for i in range(len(eig_val))]\n",
      "\n",
      "eig_pairs.sort()\n",
      "eig_pairs.reverse()\n"
     ],
     "language": "python",
     "metadata": {},
     "outputs": [],
     "prompt_number": 82
    },
    {
     "cell_type": "code",
     "collapsed": false,
     "input": [
      "%matplotlib inline\n",
      "wmatrix = np.hstack((eig_pairs[0][1].reshape(522, 1), eig_pairs[1][1].reshape(522,1)))\n",
      "\n",
      "trans = wmatrix.T.dot(master) \n",
      "\n",
      "plt.plot(trans[0,0:171], trans[1,0:171], 'o', markersize=5, color='blue', alpha=0.5, label=\"T2D\")\n",
      "plt.plot(trans[0,171:345], trans[1,171:345], '^', markersize=5, color='red', alpha=0.5, label=\"Control\")\n",
      "plt.legend(loc=2)\n",
      "plt.title(\"PCA by \\\"hand\\\" calculations\")\n",
      "plt.xlabel(\"PC1\")\n",
      "plt.ylabel(\"PC2\")\n",
      "plt.show()"
     ],
     "language": "python",
     "metadata": {},
     "outputs": [
      {
       "metadata": {},
       "output_type": "display_data",
       "png": "[encoded data removed]",
       "text": [
        "<matplotlib.figure.Figure at 0x2c29e780>"
       ]
      }
     ],
     "prompt_number": 87
    },
    {
     "cell_type": "markdown",
     "metadata": {},
     "source": [
      "Now to check my results, I use the PCA class from sklearn.decomposition to compare."
     ]
    },
    {
     "cell_type": "code",
     "collapsed": false,
     "input": [
      "from sklearn.decomposition import PCA\n",
      "\n",
      "sklearnPCA = PCA(n_components=2)\n",
      "sklearntrans = sklearnPCA.fit_transform(master.T)\n",
      "\n",
      "plt.plot(sklearntrans[0:171,0], sklearntrans[0:171,1], 'o', markersize=5, color='blue', alpha=0.5, label=\"T2D\")\n",
      "plt.plot(sklearntrans[171:345,0], sklearntrans[171:345,1], '^', markersize=5, color='red', alpha=0.5, label=\"Control\")\n",
      "plt.legend()\n",
      "plt.xlabel('PC1')\n",
      "plt.ylabel('PC2')\n",
      "plt.title('PCA with sklearn.decomposition')\n",
      "plt.show()"
     ],
     "language": "python",
     "metadata": {},
     "outputs": [
      {
       "metadata": {},
       "output_type": "display_data",
       "png": "[encoded data removed]",
       "text": [
        "<matplotlib.figure.Figure at 0x2e1ad710>"
       ]
      }
     ],
     "prompt_number": 89
    },
    {
     "cell_type": "markdown",
     "metadata": {},
     "source": [
      "The two plots are mirror images of each other. Now to reduce noise, we can create do a PCA on modules and pathways with p < 0.05 and compare. "
     ]
    },
    {
     "cell_type": "code",
     "collapsed": false,
     "input": [
      "master = []\n",
      "\n",
      "for m in modmaster:\n",
      "    if m.pval < 0.05:\n",
      "        t2d = []\n",
      "        control = []\n",
      "        for s in sample_master_list.values():\n",
      "            if s.t2d:\n",
      "                t2d.append(s.modules[m.name])\n",
      "            else:\n",
      "                control.append(s.modules[m.name])\n",
      "        master.append(t2d + control)\n",
      "        \n",
      "for p in pathmaster:\n",
      "    if p.pval < 0.05:\n",
      "        t2d = []\n",
      "        control = []\n",
      "        for s in sample_master_list.values():\n",
      "            if s.t2d:\n",
      "                t2d.append(s.pathways[p.name])\n",
      "            else:\n",
      "                control.append(s.pathways[p.name])\n",
      "        master.append(t2d + control)\n",
      "        \n",
      "\n",
      "master = np.array(master)\n",
      "sklearnPCA = PCA(n_components=2)\n",
      "sklearntrans = sklearnPCA.fit_transform(master.T)\n",
      "\n",
      "plt.plot(sklearntrans[0:171,0], sklearntrans[0:171,1], 'o', markersize=5, color='blue', alpha=0.5, label=\"T2D\")\n",
      "plt.plot(sklearntrans[171:345,0], sklearntrans[171:345,1], '^', markersize=5, color='red', alpha=0.5, label=\"Control\")\n",
      "plt.legend(loc=4)\n",
      "plt.xlabel('PC1')\n",
      "plt.ylabel('PC2')\n",
      "plt.title('PCA with P < 0.05')\n",
      "plt.show()"
     ],
     "language": "python",
     "metadata": {},
     "outputs": [
      {
       "metadata": {},
       "output_type": "display_data",
       "png": "[encoded data removed]",
       "text": [
        "<matplotlib.figure.Figure at 0x2981b550>"
       ]
      }
     ],
     "prompt_number": 90
    },
    {
     "cell_type": "heading",
     "level": 1,
     "metadata": {},
     "source": [
      "Conclusions"
     ]
    },
    {
     "cell_type": "markdown",
     "metadata": {},
     "source": [
      "The data used in this notebook is taken from <a href=\"http://www.nature.com/nature/journal/v490/n7418/abs/nature11450.html\">this study</a>. Even though my analysis of the data was very na\u00efve in comparison and only involved the examination of certain genes and pathways/modules rather than metagenomic linkage groups, some of my results echoed those concluded in the study. Here is a short list of things I found that I thought were interesting."
     ]
    },
    {
     "cell_type": "heading",
     "level": 4,
     "metadata": {},
     "source": [
      "Butyrate-producing bacteria"
     ]
    },
    {
     "cell_type": "markdown",
     "metadata": {},
     "source": [
      "The study reported butyrate-producing bacteria enriched in control samples. Although I did not examine species composition, I did find starch and sugar metabolism pathways enriched in the control (ko00500) which might make sense since butyric acid is created as a product of the fermentation of sugar. "
     ]
    },
    {
     "cell_type": "heading",
     "level": 4,
     "metadata": {},
     "source": [
      "Metabolism of vitamins"
     ]
    },
    {
     "cell_type": "markdown",
     "metadata": {},
     "source": [
      "The metabolism of vitamins was also reported to be enriched in the control samples. Riboflavin (vitamin B<sub>2</sub>) metabolism (ko00740) and as well as Riboflavin biosynthesis (M00125) was enriched in the control in my results, as was thiamine (vitamin B<sub>1</sub>) metabolism (ko00730)and biosynthesis (M00127). "
     ]
    },
    {
     "cell_type": "heading",
     "level": 4,
     "metadata": {},
     "source": [
      "Opportunistic pathogens"
     ]
    },
    {
     "cell_type": "markdown",
     "metadata": {},
     "source": [
      "Again, since I did not attempt anything close to species composition in the samples so I could not say whether oppportunistic pathogens were enriched in the T2D samples rather than the control, I did think it was interesting that the pathway for <i>Staphylococcus aures</i> infection (ko05150) was more prevalent in T2D samples. "
     ]
    }
   ],
   "metadata": {}
  }
 ]
}